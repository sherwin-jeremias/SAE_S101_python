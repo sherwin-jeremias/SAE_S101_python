{
 "cells": [
  {
   "cell_type": "markdown",
   "metadata": {},
   "source": [
    "# <center> Santa Claus needs you!</center>\n",
    "<center> SAE 1.01 / 2023 - 24 </center>\n",
    "\n"
   ]
  },
  {
   "cell_type": "code",
   "execution_count": 1,
   "metadata": {},
   "outputs": [],
   "source": [
    "#Travail fait par Jeremias Sherwin et Dubord Ruben"
   ]
  },
  {
   "cell_type": "markdown",
   "metadata": {
    "deletable": false,
    "editable": false
   },
   "source": [
    "## <center> Sujet </center>\n",
    "\n",
    "Le Père Noël se fait vieux, il a besoin d'aider pour organiser sa distribution de cadeaux. Il vous prend à l'essai...\n",
    "\n",
    "L'objectif est de chercher une tournée des villes minimisant la distance parcourue par les rennes du Père Noël."
   ]
  },
  {
   "cell_type": "markdown",
   "metadata": {
    "deletable": false,
    "editable": false
   },
   "source": [
    "**Attendus**\n",
    "\n",
    "Les attendus de cette SAE sont que vous appreniez à \n",
    "- respecter un cahier des charges ;\n",
    "- écrire un code de qualité : efficace, lisible, documenté et testé sauf quand il s'agit d'affichages, de saisies ou de tirages aléatoires ;\n",
    " - travailler en groupe sur un projet : cette SAE est à faire en **binôme**. Vous devez néanmoins comprendre et connaître la totalité de ce qui est produit par le binôme.\n",
    "\n",
    "\n",
    "**Calendrier**\n",
    "- Le projet est à rendre au plus tard le vendredi **10 novembre** 2023. Les modalités de rendu vous seront précisées par votre enseignant.\n",
    "- Un contrôle de 2h en lien avec le contenu de cette SAE aura lieu le vendredi **10 novembre** 2023.\n",
    "\n",
    "**Evaluation**\n",
    "- Le projet comptera pour 40% de la note de SAE 1.01. <BR>\n",
    "Il sera particulièrement tenu compte de la qualité du code, des **commentaires** et **docstrings**, des fonctions de **tests unitaires** pour les fonctions renvoyant des résultats. <BR><BR>\n",
    "    \n",
    "- Le contrôle compte pour 60% de la note finale."
   ]
  },
  {
   "cell_type": "markdown",
   "metadata": {
    "deletable": false,
    "editable": false
   },
   "source": [
    "On décide de stocker les données sur les villes à visiter dans un tableau `villes` de chaînes de caractères et de flottants contenant successivement une ville (sous forme d'une chaîne de caractères), sa longitude et sa latitude (des flottants) en dégrés décimaux (DD) de sorte que `villes[3*i]` a pour longitude  `villes[3*i+1]` et pour latitude `villes[3*i+2]`.\n",
    "\n",
    "On suppose que chaque ville n'est présente qu'une seule fois dans le tableau.\n",
    "\n",
    "**Exemple** : "
   ]
  },
  {
   "cell_type": "code",
   "execution_count": 3,
   "metadata": {
    "deletable": false,
    "editable": false,
    "scrolled": true
   },
   "outputs": [],
   "source": [
    "villes = [\"Paris\",2.33,48.86, \"Lyon\",4.85,45.75, \n",
    "          \"Marseille\", 5.40,43.30, \"Lille\",3.06,50.63, \n",
    "          \"Strasbourg\",7.75,48.57, \"Rennes\",-1.66,48.11, \n",
    "          \"Clermont-Ferrand\",3.08,45.77, \"Bordeaux\", -0.57, 44.83]"
   ]
  },
  {
   "cell_type": "markdown",
   "metadata": {
    "deletable": false,
    "editable": false
   },
   "source": [
    "Ainsi\n",
    "- Paris a une longitude de 2,33 DD et une latitude de 48,86 DD.\n",
    "- Rennes a une longitude de -1,66 DD et une latitude de 48,11 DD."
   ]
  },
  {
   "cell_type": "markdown",
   "metadata": {
    "deletable": false,
    "editable": false
   },
   "source": [
    "#### Question préliminaire : Représentation des villes par un tableau\n",
    "\n",
    "- Ajouter dans le tableau précédent Toulouse dont la longitude est 1,43 DD et la latitude est 43,60 DD, ainsi que Grenoble dont la longitude est 5,72 DD et la latitude est 45,18 DD."
   ]
  },
  {
   "cell_type": "code",
   "execution_count": 4,
   "metadata": {
    "scrolled": true
   },
   "outputs": [],
   "source": [
    "villes = [\"Paris\",2.33,48.86, \"Lyon\",4.85,45.75, \n",
    "          \"Marseille\", 5.40,43.30, \"Lille\",3.06,50.63, \n",
    "          \"Strasbourg\",7.75,48.57, \"Rennes\",-1.66,48.11, \n",
    "          \"Clermont-Ferrand\",3.08,45.77, \"Bordeaux\", -0.57, 44.83,\n",
    "          \"Toulouse\",1.43,43.60, \"Grenoble\",5.72,45.18]\n"
   ]
  },
  {
   "cell_type": "markdown",
   "metadata": {
    "deletable": false,
    "editable": false
   },
   "source": [
    "#### Question 1 : Nombre de villes à visiter\n",
    "\n",
    "- Étant donné un tableau `villes`, écrire une fonction `nb_villes(villes)` qui retourne le nombre de villes à visiter contenues dans le tableau `villes`. \n",
    "- Ecrire une fonction de tests unitaires permettant de vérifier cette fonction. "
   ]
  },
  {
   "cell_type": "code",
   "execution_count": 5,
   "metadata": {},
   "outputs": [
    {
     "name": "stdout",
     "output_type": "stream",
     "text": [
      "10\n",
      "Test ok\n"
     ]
    }
   ],
   "source": [
    "def nb_villes(villes):\n",
    "    \"Retourne le nombre de villes dans le tableau en paramètre\"\n",
    "    nb_v = 0\n",
    "    for elem in villes: #boucle qui parcours les éléments de villes et augmente nb_v de 1 à chaque \n",
    "        if type(elem) == str:\n",
    "            nb_v +=1\n",
    "    return nb_v\n",
    "print(nb_villes(villes))\n",
    "\n",
    "def test_nb_villes():\n",
    "    \"Vérifie le bon fonctionnement de nb_villes()\"\n",
    "    assert nb_villes(villes) == 10\n",
    "    assert nb_villes(villes) != 8\n",
    "    print('Test ok')\n",
    "test_nb_villes()"
   ]
  },
  {
   "cell_type": "markdown",
   "metadata": {
    "deletable": false,
    "editable": false
   },
   "source": [
    "#### Question 2 : Tableaux des noms de villes à visiter\n",
    "\n",
    "- Étant donné un tableau `villes`, écrire une fonction `noms_villes(villes)` qui retourne le tableau des noms des villes à visiter contenues dans le tableau `villes`. \n",
    "- Ecrire une fonction de tests unitaires permettant de vérifier cette fonction. "
   ]
  },
  {
   "cell_type": "code",
   "execution_count": 6,
   "metadata": {},
   "outputs": [
    {
     "name": "stdout",
     "output_type": "stream",
     "text": [
      "['Paris', 'Lyon', 'Marseille', 'Lille', 'Strasbourg', 'Rennes', 'Clermont-Ferrand', 'Bordeaux', 'Toulouse', 'Grenoble']\n",
      "Test ok\n"
     ]
    }
   ],
   "source": [
    "def nom_villes(villes):\n",
    "    \"Retourne le tableau des noms des villes à visiter contenues dans le tableau en paramètres\"\n",
    "    noms = []\n",
    "    for elemt in villes: #boucle qui parcours les éléments de villes et ajoute à noms les noms des villes\n",
    "        if type(elemt) == str:\n",
    "            noms.append(elemt)\n",
    "    return noms\n",
    "print(nom_villes(villes))\n",
    "\n",
    "def test_nom_villes():\n",
    "    \"Vérifie le bon fonctionnement de nom_villes()\"\n",
    "    assert nom_villes(villes) != [\"Paris\",\"Lyon\",\"Marseille\",\"Lille\",\"Strasbourg\",\"Rennes\",\"Clermont-Ferrand\",\"Bordeaux\"]\n",
    "    assert nom_villes(villes) == [\"Paris\",\"Lyon\",\"Marseille\",\"Lille\",\"Strasbourg\",\"Rennes\",\"Clermont-Ferrand\",\"Bordeaux\",\"Toulouse\",\"Grenoble\"]\n",
    "    print('Test ok')\n",
    "test_nom_villes()"
   ]
  },
  {
   "cell_type": "markdown",
   "metadata": {
    "deletable": false,
    "editable": false,
    "run_control": {
     "frozen": true
    }
   },
   "source": [
    "#### Question 3 : Distance entre deux villes repérées par leurs longitude et latitude\n",
    "\n",
    "Pour calculer la distance $d$ entre deux villes $V_1$ (de longitude $long1$ et de latitude $lat1$) et $V_2$ (de longitude $long2$ et de latitude $lat2$) à partir de leurs longitude et latitude, on peut utiliser la formule suivante :\n",
    "\n",
    "$d=R*arccos(sin(lat1)*sin(lat2)+cos(lat1)*cos(lat2)*cos(long2-long1))$\n",
    "\n",
    "où le rayon de la terre $R$ vaut 6370.7km et les latitudes et longitudes sont exprimées en radians (en non en degrés décimaux).\n",
    "Cela correspond à la méthode de calcul avec la loi des sinus décrite [ici](http://villemin.gerard.free.fr/aGeograp/Distance.htm) \n",
    "\n",
    "Par exemple, Paris et Marseille sont distantes de 661,86 km.\n",
    "\n",
    "- Ecrire une fonction `distance(long1,lat1,long2,lat2)` qui calcule et retourne la distance entre deux villes $V_1$ (de longitude `long1` et `lat1`) et $V_2$ (de `long2`et `lat2`).\n",
    "\n",
    "**NB** Les fonctions `sin`, `cos` et le nombre `pi` sont définis dans la bibliothèque `math`. La fonction `arccos` est définie dans la bibliothèque `numpy`.\n",
    "\n",
    "Pour **convertir des degrés en radians**, il faut multiplier par $\\pi/180$.\n",
    "\n",
    "\n",
    "- Ecrire une fonction de tests unitaire permettant de vérifier cette fonction."
   ]
  },
  {
   "cell_type": "code",
   "execution_count": 7,
   "metadata": {},
   "outputs": [
    {
     "name": "stdout",
     "output_type": "stream",
     "text": [
      "2456.74\n",
      "Test OK\n"
     ]
    }
   ],
   "source": [
    "import math as m\n",
    "import numpy as n\n",
    "\n",
    "def distance(long1,lat1,long2,lat2):\n",
    "    \"Retourne la distance entre les deux villes avec la loi des sinus\"\n",
    "    long1 = long1*(m.pi/180)\n",
    "    lat1 = lat1*(m.pi/180)\n",
    "    long2 = long2*(m.pi/180)\n",
    "    lat2 = lat2*(m.pi/180)\n",
    "\n",
    "    d = (6370.7*n.arccos(m .sin(lat1)*m.sin(lat2)+m.cos(lat1)*m.cos(lat2)*m.cos(long2-long1))) #Formule de la distance\n",
    "    return(round(d,2))\n",
    "print(distance(3.44, 43.26, 6.23, 65.30))\n",
    "\n",
    "def test_distance():\n",
    "    \"Teste le bon fonctionnement de distance()\"\n",
    "    assert distance(2.33, 48.86, 5.40, 43.30) == 661.86 #Paris et Marseille\n",
    "    assert distance(-0.57, 44.83, 3.08,45.77) == 303.96 #Bordeaux et Clermont-Ferrand \n",
    "    assert distance(7.75, 48.57, -1.66, 48.11) != 512.86 #Strasbourg et Rennes\n",
    "    print(\"Test OK\")\n",
    "test_distance()"
   ]
  },
  {
   "cell_type": "markdown",
   "metadata": {
    "deletable": false,
    "editable": false
   },
   "source": [
    "#### Question 4 : Coordonnées d'une ville dans le tableau `villes`\n",
    "\n",
    "a) Ecrire une fonction `indexCity(ville, villes)` qui retourne la position (l'indice) de la `ville` passée en paramètre dans le tableau `villes`. Elle retournera `-1` si la ville passée en paramètre n'est pas dans le tableau. Cette information pourra être utilisée dans la suite pour trouver la longitude et la latitude d'une ville donnée par son nom.\n",
    "\n",
    "Par exemple, \n",
    "- l'instruction `indexCity(\"Paris\", villes)` retournera `0`,\n",
    "- l'instruction `indexCity(\"Clermont-Ferrand\",villes)` retournera  `18`,\n",
    "- et l'instruction `indexCity(\"Villetaneuse\",villes)` retournera  `-1`.\n",
    "\n",
    "b) Ecrire une fonction de tests unitaire permettant de vérifier cette fonction."
   ]
  },
  {
   "cell_type": "code",
   "execution_count": 8,
   "metadata": {},
   "outputs": [
    {
     "name": "stdout",
     "output_type": "stream",
     "text": [
      "9\n",
      "Test ok\n"
     ]
    }
   ],
   "source": [
    "def indexCity(ville, villes):\n",
    "    \"Retourne la position(indice) de la ville si elle existe dans le tableau villes, sinon -1\"\n",
    "    if ville not in villes:\n",
    "        return -1\n",
    "    else:\n",
    "        for v in range(len(villes)): #Vérifie la présence de la ville si elle est présente dans le tableau\n",
    "            if villes[v] == ville:\n",
    "                return v\n",
    "print(indexCity(\"Lille\",villes))\n",
    "\n",
    "def test_indexCity():\n",
    "    \"Teste le bon fonctionnement de indexCity()\"\n",
    "    assert indexCity(\"Clermont-Ferrand\",villes) == 18\n",
    "    assert indexCity(\"Paris\",villes) == 0\n",
    "    assert indexCity(\"Strasbourg\",villes) == 12\n",
    "    assert indexCity(\"Tokyo\",villes) == -1\n",
    "    print(\"Test ok\")\n",
    "test_indexCity()"
   ]
  },
  {
   "cell_type": "markdown",
   "metadata": {
    "deletable": false,
    "editable": false
   },
   "source": [
    "#### Question 5 : Distance entre deux villes données par leurs noms\n",
    "\n",
    "- Ecrire une fonction `distance_noms(nom1,nom2, villes)` qui calcule et retourne la distance entre deux villes $V_1$ et $V_2$ appelées `nom1` et `nom2` dans le tableau `villes`. La fonction retournera `-1` si une de ces villes n'est pas dans le tableau.\n",
    "- Ecrire une fonction de tests unitaires permettant de vérifier cette fonction."
   ]
  },
  {
   "cell_type": "code",
   "execution_count": 9,
   "metadata": {},
   "outputs": [
    {
     "name": "stdout",
     "output_type": "stream",
     "text": [
      "203.67\n",
      "Test OK\n"
     ]
    }
   ],
   "source": [
    "def distance_noms(nom1,nom2,villes):\n",
    "    \"Retourne la distance entre deux villes\"\n",
    "    if nom1 not in villes or nom2 not in villes:\n",
    "        return -1\n",
    "    else: #change les coordonnées par celles des villes en paramètres\n",
    "        lo1 = villes[indexCity(nom1, villes)+1]\n",
    "        lat1 = villes[indexCity(nom1, villes)+2]\n",
    "        lo2 = villes[indexCity(nom2, villes)+1]\n",
    "        lat2 = villes[indexCity(nom2, villes)+2]\n",
    "\n",
    "    return distance(lo1,lat1,lo2,lat2) #distance entre les deux villes\n",
    "print(distance_noms(\"Lille\",\"Paris\",villes))\n",
    "\n",
    "def test_distance_noms():\n",
    "    \"Teste le bon fonctionnement de distance_noms()\"\n",
    "    assert distance_noms(\"Paris\",\"Marseille\",villes) == 661.86 \n",
    "    assert distance_noms(\"Bordeaux\",\"Clermont-Ferrand\",villes) == 303.96  \n",
    "    assert distance_noms(\"Strasbourg\",\"Tokyo\",villes) != 512.86 \n",
    "    assert distance_noms(\"Tokyo\",\"Strasbourg\",villes) == -1\n",
    "    print(\"Test OK\") \n",
    "    \n",
    "test_distance_noms()"
   ]
  },
  {
   "cell_type": "markdown",
   "metadata": {
    "deletable": false,
    "editable": false
   },
   "source": [
    "#### Question 6 :  Lecture des villes d'une tournée à partir d'un fichier\n",
    "On suppose que les données sur les villes où doit se rendre le Père Noël réseau sont stockées dans un fichier CSV de la manière suivante :\n",
    "```\n",
    "ville1;longitude1;latitude1\n",
    "ville2;longitude2;latitude2\n",
    "ville3;longitude3;latitude3\n",
    "...\n",
    "```\n",
    "Autrement dit, chaque ligne du fichier contient le nom d'une ville, sa longitude et sa latitude en degrés décimaux, ces données étant séparées par des `';'`. Ces villes sont celles que le Père Noël doit desservir\n",
    "\n",
    "**NB** : Six fichiers CSV de ce type sont fournis dans le répertoire `files/`, il s'agit des fichiers `africa.csv`, `asia.csv`,`europe.csv`, `north-america`, `oceania.csv` and `south-america.csv`. \n",
    "Il est recommandé d'en fabriquer d'autres. \n",
    "\n",
    "- Ecrire une fonction `lecture_villes(path)` prenant en paramètre un chemin vers un tel fichier CSV et retournant un tableau contenant les informations sur les villes à visiter."
   ]
  },
  {
   "cell_type": "code",
   "execution_count": 10,
   "metadata": {},
   "outputs": [
    {
     "data": {
      "text/plain": [
       "['Tirana',\n",
       " 19.82,\n",
       " 41.33,\n",
       " 'Andorra la Vella',\n",
       " 1.52,\n",
       " 42.51,\n",
       " 'Vienna',\n",
       " 16.37,\n",
       " 48.21,\n",
       " 'Minsk',\n",
       " 27.57,\n",
       " 53.9,\n",
       " 'Brussels',\n",
       " 4.35,\n",
       " 50.85,\n",
       " 'Sarajevo',\n",
       " 18.36,\n",
       " 43.85,\n",
       " 'Sofia',\n",
       " 23.32,\n",
       " 42.7,\n",
       " 'Zagreb',\n",
       " 15.98,\n",
       " 45.81,\n",
       " 'Nicosia',\n",
       " 33.37,\n",
       " 35.17,\n",
       " 'Prague',\n",
       " 14.42,\n",
       " 50.09,\n",
       " 'Copenhagen',\n",
       " 12.57,\n",
       " 55.68,\n",
       " 'Tallinn',\n",
       " 24.75,\n",
       " 59.44,\n",
       " 'TÃ³rshavn',\n",
       " -6.77,\n",
       " 62.01,\n",
       " 'Helsinki',\n",
       " 24.94,\n",
       " 60.17,\n",
       " 'Paris',\n",
       " 2.35,\n",
       " 48.85,\n",
       " 'Berlin',\n",
       " 13.41,\n",
       " 52.52,\n",
       " 'Gibraltar',\n",
       " -5.35,\n",
       " 36.14,\n",
       " 'Athens',\n",
       " 23.72,\n",
       " 37.98,\n",
       " 'St Peter Port',\n",
       " -2.54,\n",
       " 49.46,\n",
       " 'Budapest',\n",
       " 19.04,\n",
       " 47.5,\n",
       " 'ReykjavÃ\\xadk',\n",
       " -21.9,\n",
       " 64.14,\n",
       " 'Dublin',\n",
       " -6.25,\n",
       " 53.33,\n",
       " 'Douglas',\n",
       " -4.48,\n",
       " 54.15,\n",
       " 'Rome',\n",
       " 12.48,\n",
       " 41.89,\n",
       " 'Saint Helier',\n",
       " -2.1,\n",
       " 49.19,\n",
       " 'Pristina',\n",
       " 21.17,\n",
       " 42.67,\n",
       " 'Riga',\n",
       " 24.11,\n",
       " 56.95,\n",
       " 'Vaduz',\n",
       " 9.52,\n",
       " 47.14,\n",
       " 'Vilnius',\n",
       " 25.28,\n",
       " 54.69,\n",
       " 'Luxembourg',\n",
       " 6.13,\n",
       " 49.61,\n",
       " 'Skopje',\n",
       " 21.43,\n",
       " 42.0,\n",
       " 'Valletta',\n",
       " 14.51,\n",
       " 35.9,\n",
       " 'ChiÅŸinÄƒu',\n",
       " 28.86,\n",
       " 47.01,\n",
       " 'Monaco',\n",
       " 7.42,\n",
       " 43.73,\n",
       " 'Podgorica',\n",
       " 19.26,\n",
       " 42.44,\n",
       " 'Amsterdam',\n",
       " 4.89,\n",
       " 52.37,\n",
       " 'Oslo',\n",
       " 10.75,\n",
       " 59.91,\n",
       " 'Warsaw',\n",
       " 21.01,\n",
       " 52.23,\n",
       " 'Lisbon',\n",
       " -9.13,\n",
       " 38.72,\n",
       " 'Bucharest',\n",
       " 26.11,\n",
       " 44.43,\n",
       " 'Moscow',\n",
       " 37.62,\n",
       " 55.75,\n",
       " 'San Marino',\n",
       " 12.45,\n",
       " 43.94,\n",
       " 'Belgrade',\n",
       " 20.47,\n",
       " 44.8,\n",
       " 'Bratislava',\n",
       " 17.11,\n",
       " 48.15,\n",
       " 'Ljubljana',\n",
       " 14.51,\n",
       " 46.05,\n",
       " 'Madrid',\n",
       " -3.7,\n",
       " 40.42,\n",
       " 'Longyearbyen',\n",
       " 15.64,\n",
       " 78.22,\n",
       " 'Stockholm',\n",
       " 18.06,\n",
       " 59.33,\n",
       " 'Berne',\n",
       " 7.45,\n",
       " 46.95,\n",
       " 'Kiev',\n",
       " 30.52,\n",
       " 50.45,\n",
       " 'London',\n",
       " -0.13,\n",
       " 51.51,\n",
       " 'Vatican',\n",
       " 12.45,\n",
       " 41.9]"
      ]
     },
     "execution_count": 10,
     "metadata": {},
     "output_type": "execute_result"
    }
   ],
   "source": [
    "def lecture_villes(path):\n",
    "    \"Prend un fichier csv en paramètre et retourne un tableau contenant les informations sur les villes à visiter\"\n",
    "    f = open(path,\"r\")\n",
    "    tab = []\n",
    "    villes = []\n",
    "    for li in f.readlines(): #parcours f, enlève les '\\n' et sépare les éléments par ';'\n",
    "        a = (li.strip(\"\\n\"))\n",
    "        tab.append(a.split(';'))\n",
    "    for tabfinale in tab: #parcours tab et ajoute les éléments de tabfinale qui est lui-même un élément de tab    \n",
    "        for element in tabfinale: #parcours tabfinale\n",
    "            villes.append(element)\n",
    "    for i in range(len(villes)): #parcours le tab villes sans prendre en compte les éléments dont l'index est multiple de 3 (les noms de villes), et change les éléments str en flottant\n",
    "        if i % 3 != 0: \n",
    "            villes[i] = float(villes[i])\n",
    "    f.close()\n",
    "    return villes\n",
    "\n",
    "lecture_villes(\"europe.csv\")"
   ]
  },
  {
   "cell_type": "markdown",
   "metadata": {
    "deletable": false,
    "editable": false
   },
   "source": [
    "#### Question 7 : Longueur d'une tournée\n",
    "\n",
    "On considère que le Père Noël peut partir de n'importe laquelle des villes qu'il doit visiter et qu'il doit revenir à son point de départ à la fin de la tournée. Lors de sa tournée, il doit visiter chacune des villes dont les informations sont contenues dans le tableau `villes` une fois et une seule. \n",
    "\n",
    "On représente une tournée possible sous la forme d'un tableau `tournee` contenant le nom des villes dans l'ordre où le Père Noël les visitera sans oublier de revenir à la ville dont il est parti. \n",
    "\n",
    "L'objectif est de calculer la longueur d'une tournée. \n",
    "\n",
    "- Ecrire une fonction `long_tour(villes, tournee)` qui prend en paramètres le tableau `villes` contenant les informations sur les villes à visiter et le tableau `tournee` indiquant l'ordre dans lequel les villes sont visitées. La fonction retourne la longueur de la tournée correspondante.\n",
    "\n",
    "- Ecrire une fonction de tests unitaires permettant de vérifier cette fonction."
   ]
  },
  {
   "cell_type": "code",
   "execution_count": 10,
   "metadata": {},
   "outputs": [
    {
     "name": "stdout",
     "output_type": "stream",
     "text": [
      "Test ok\n"
     ]
    }
   ],
   "source": [
    "def long_tour(villes, tournee):\n",
    "    \"Prend en paramètres le tableau villes contenant les informations sur les villes à visiter et le tableau tournee indiquant l'ordre dans lequel les villes sont visitées. Retourne la longueur de la tournée en question\"\n",
    "\n",
    "    distance = 0\n",
    "    for i in range(len(tournee)-1): #0,1\n",
    "        distance += distance_noms(tournee[i],tournee[i+1],villes)\n",
    "        \n",
    "    dist = distance_noms(tournee[-1],tournee[0],villes)\n",
    "\n",
    "    return round((distance+dist),2)\n",
    "\n",
    "vil_eu = lecture_villes(\"europe.csv\") #Liste des villes d'Europe et leurs informations\n",
    "vil_samerica = lecture_villes(\"southth-america.csv\") #Liste des villes d'Amérique du Sud et leurs informations\n",
    "vil_oceania = lecture_villes(\"oceania.csv\") #Liste des villes d'Océanie et leurs informations\n",
    "long_tour(vil_oceania,['Mata-Utu','Pago Pago'])\n",
    "\n",
    "def test_long_tour():\n",
    "    \"Teste le bon fonctionnement de long_tour()\"\n",
    "    assert long_tour(vil_eu, ['Rome','Vienna','Dublin','Madrid','Saint Helier']) == 6270.21\n",
    "    assert long_tour(vil_eu, ['Rome','Rome']) == 0\n",
    "    assert long_tour(vil_samerica, ['Sucre','Brasília','Georgetown']) == 7600.25\n",
    "    assert long_tour(vil_oceania, ['Mata-Utu','Pago Pago','Port Moresby']) == 9224.19\n",
    "    print(\"Test ok\")\n",
    "test_long_tour()\n"
   ]
  },
  {
   "cell_type": "markdown",
   "metadata": {
    "deletable": false,
    "editable": false
   },
   "source": [
    "#### Question 8 : Recherche d'une plus courte tournée \n",
    "\n",
    "Pour améliorer la longueur de la tournée, on peut essayer de changer l'ordre des villes aléatoirement. Pour une tournée donnée par un tableau `tournee` cela peut se faire avec la fonction `shuffle` de la bibliothèque `random` qui mélange aléatoirement les villes qui sont dans le tableau `tournee`, grâce à l'instruction  `shuffle(tournee)`, et ne retourne rien.\n",
    "\n",
    "- Utiliser cette fonction pour écrire un programme qui cherche une tournée plus courte à proposer au Père Noël. \n",
    "- Comment la solution s'améliore-t-elle en fonction de nombre de tentatives de mélange ? "
   ]
  },
  {
   "cell_type": "code",
   "execution_count": 11,
   "metadata": {},
   "outputs": [
    {
     "ename": "NameError",
     "evalue": "name 'vil_eu' is not defined",
     "output_type": "error",
     "traceback": [
      "\u001b[1;31m---------------------------------------------------------------------------\u001b[0m",
      "\u001b[1;31mNameError\u001b[0m                                 Traceback (most recent call last)",
      "Cell \u001b[1;32mIn[11], line 3\u001b[0m\n\u001b[0;32m      1\u001b[0m \u001b[38;5;28;01mimport\u001b[39;00m \u001b[38;5;21;01mrandom\u001b[39;00m\n\u001b[1;32m----> 3\u001b[0m villes \u001b[38;5;241m=\u001b[39m \u001b[43mvil_eu\u001b[49m \u001b[38;5;66;03m#Exemple de liste de villes et leurs informations\u001b[39;00m\n\u001b[0;32m      4\u001b[0m tournee \u001b[38;5;241m=\u001b[39m [\u001b[38;5;124m'\u001b[39m\u001b[38;5;124mRome\u001b[39m\u001b[38;5;124m'\u001b[39m,\u001b[38;5;124m'\u001b[39m\u001b[38;5;124mVienna\u001b[39m\u001b[38;5;124m'\u001b[39m,\u001b[38;5;124m'\u001b[39m\u001b[38;5;124mDublin\u001b[39m\u001b[38;5;124m'\u001b[39m,\u001b[38;5;124m'\u001b[39m\u001b[38;5;124mMadrid\u001b[39m\u001b[38;5;124m'\u001b[39m,\u001b[38;5;124m'\u001b[39m\u001b[38;5;124mSaint Helier\u001b[39m\u001b[38;5;124m'\u001b[39m] \u001b[38;5;66;03m#Exemple de tournée\u001b[39;00m\n\u001b[0;32m      6\u001b[0m res \u001b[38;5;241m=\u001b[39m long_tour(villes, tournee)\n",
      "\u001b[1;31mNameError\u001b[0m: name 'vil_eu' is not defined"
     ]
    }
   ],
   "source": [
    "import random\n",
    "\n",
    "villes = vil_eu #Exemple de liste de villes et leurs informations\n",
    "tournee = ['Rome','Vienna','Dublin','Madrid','Saint Helier'] #Exemple de tournée\n",
    "\n",
    "res = long_tour(villes, tournee)\n",
    "print('La tournée actuelle est :',res, 'km')\n",
    "rep = input(\"Voulez-vous essayer d'améliorer l'ordre de tournée? si oui tappez : 'oui' sinon tappez : n'importe quel caractère : \")\n",
    "\n",
    "while rep == \"oui\": #boucle qui permet de remélanger autant de fois que l'utilisateur le demande\n",
    "    random.shuffle(tournee)    \n",
    "    a = long_tour(villes,tournee)\n",
    "    \n",
    "    if a < res:\n",
    "        res = a\n",
    "        print(f\"\\nTournée améliorée, la distance est maintenant de {res} Km\")\n",
    "        \n",
    "    else:\n",
    "        print(f\"\\nLa tournée n'est pas améliorée, la distance est de {res} Km\")\n",
    "        \n",
    "    rep = input(\"\\nVoulez-vous essayer d'améliorer la tournée? (oui ou non) :\")\n",
    "\n",
    "#La solution s'améliore en fonction du nombre de tentatives de mélange. Plus on mélange, plus on se rapproche de la tournée optimale, mais les chances d'améliorer diminuent."
   ]
  },
  {
   "cell_type": "markdown",
   "metadata": {},
   "source": [
    "#### Question Bonus (facultative) : Visualisation de la tournée proposée au Père Noël \n",
    "\n",
    "Pour faciliter le travail du Père Noël, vous décidez de lui fournir une carte où est représentée la tournée sélectionnée. \n",
    "\n",
    "Pour cela, on peut (mais ce ne n'est qu'une suggestion) utiliser la bibliothèque [`folium`](https://python-visualization.github.io/folium/latest/getting_started.html). Vous pouvez également utiliser tout autre bibliothèque de votre choix.\n",
    "\n",
    "- Ecrire un programme permettant la visualisation de la tournée proposée au Père Noël"
   ]
  },
  {
   "cell_type": "code",
   "execution_count": 12,
   "metadata": {},
   "outputs": [
    {
     "ename": "ModuleNotFoundError",
     "evalue": "No module named 'folium'",
     "output_type": "error",
     "traceback": [
      "\u001b[1;31m---------------------------------------------------------------------------\u001b[0m",
      "\u001b[1;31mModuleNotFoundError\u001b[0m                       Traceback (most recent call last)",
      "Cell \u001b[1;32mIn[12], line 1\u001b[0m\n\u001b[1;32m----> 1\u001b[0m \u001b[38;5;28;01mimport\u001b[39;00m \u001b[38;5;21;01mfolium\u001b[39;00m\n\u001b[0;32m      3\u001b[0m europe_latitude \u001b[38;5;241m=\u001b[39m \u001b[38;5;241m51.1657\u001b[39m\n\u001b[0;32m      4\u001b[0m europe_longitude \u001b[38;5;241m=\u001b[39m \u001b[38;5;241m10.4515\u001b[39m\n",
      "\u001b[1;31mModuleNotFoundError\u001b[0m: No module named 'folium'"
     ]
    }
   ],
   "source": [
    "import folium\n",
    "\n",
    "europe_latitude = 51.1657\n",
    "europe_longitude = 10.4515\n",
    "\n",
    "carte = folium.Map(location=[europe_latitude, europe_longitude], zoom_start=4)\n",
    "\n",
    "# Places and their coordinates from the tab list\n",
    "places = [\"Paris\", 2.33, 48.86, \"Lyon\", 4.85, 45.75, \"Marseille\", 5.40, 43.30,\n",
    "          \"Lille\", 3.06, 50.63, \"Strasbourg\", 7.75, 48.57, \"Rennes\", -1.66, 48.11,\n",
    "          \"Clermont-Ferrand\", 3.08, 45.77, \"Bordeaux\", -0.57, 44.83, \"Toulouse\", 1.43, 43.60,\n",
    "          \"Grenoble\", 5.72, 45.18]\n",
    "\n",
    "for i in range(0, len(places), 3):\n",
    "    nom_place = places[i]\n",
    "    latitude = places[i + 1]\n",
    "    longitude = places[i + 2]\n",
    "\n",
    "    folium.Marker(location=[latitude, longitude], popup=place_name).add_to(carte)\n",
    "\n",
    "carte.save(\"map.html\")\n"
   ]
  }
 ],
 "metadata": {
  "kernelspec": {
   "display_name": "Python 3 (ipykernel)",
   "language": "python",
   "name": "python3"
  },
  "language_info": {
   "codemirror_mode": {
    "name": "ipython",
    "version": 3
   },
   "file_extension": ".py",
   "mimetype": "text/x-python",
   "name": "python",
   "nbconvert_exporter": "python",
   "pygments_lexer": "ipython3",
   "version": "3.12.0"
  },
  "latex_envs": {
   "LaTeX_envs_menu_present": true,
   "autoclose": false,
   "autocomplete": true,
   "bibliofile": "biblio.bib",
   "cite_by": "apalike",
   "current_citInitial": 1,
   "eqLabelWithNumbers": true,
   "eqNumInitial": 1,
   "hotkeys": {
    "equation": "Ctrl-E",
    "itemize": "Ctrl-I"
   },
   "labels_anchors": false,
   "latex_user_defs": false,
   "report_style_numbering": false,
   "user_envs_cfg": false
  }
 },
 "nbformat": 4,
 "nbformat_minor": 4
}
